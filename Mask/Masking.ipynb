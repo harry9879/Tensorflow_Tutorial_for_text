{
  "nbformat": 4,
  "nbformat_minor": 0,
  "metadata": {
    "colab": {
      "provenance": [],
      "authorship_tag": "ABX9TyP4cb01WYKOTSzvGtKtwxTq",
      "include_colab_link": true
    },
    "kernelspec": {
      "name": "python3",
      "display_name": "Python 3"
    },
    "language_info": {
      "name": "python"
    }
  },
  "cells": [
    {
      "cell_type": "markdown",
      "metadata": {
        "id": "view-in-github",
        "colab_type": "text"
      },
      "source": [
        "<a href=\"https://colab.research.google.com/github/harry9879/Tensorflow_Tutorial_for_text/blob/main/Mask/Masking.ipynb\" target=\"_parent\"><img src=\"https://colab.research.google.com/assets/colab-badge.svg\" alt=\"Open In Colab\"/></a>"
      ]
    },
    {
      "cell_type": "code",
      "execution_count": null,
      "metadata": {
        "id": "EuVOUGqvr067"
      },
      "outputs": [],
      "source": [
        "import numpy as np\n",
        "import tensorflow as tf\n",
        "from tensorflow import keras\n",
        "from tensorflow.keras import layers"
      ]
    },
    {
      "cell_type": "code",
      "source": [
        "raw_inputs = [\n",
        "    [711, 632, 71],\n",
        "    [73, 8, 3215, 55, 927],\n",
        "    [83, 91, 1, 645, 1253, 927],\n",
        "]\n",
        "\n",
        "padding_inputs = tf.keras.preprocessing.sequence.pad_sequences(\n",
        "    raw_inputs , padding = 'post'\n",
        ")\n",
        "print(padding_inputs)"
      ],
      "metadata": {
        "colab": {
          "base_uri": "https://localhost:8080/"
        },
        "id": "H5Di_qlQr6Cf",
        "outputId": "2ab15323-198b-433f-acfa-c67a4fff6793"
      },
      "execution_count": null,
      "outputs": [
        {
          "output_type": "stream",
          "name": "stdout",
          "text": [
            "[[ 711  632   71    0    0    0]\n",
            " [  73    8 3215   55  927    0]\n",
            " [  83   91    1  645 1253  927]]\n"
          ]
        }
      ]
    },
    {
      "cell_type": "code",
      "source": [
        "embedding = layers.Embedding(input_dim = 5000,output_dim = 16, mask_zero = True)\n",
        "masked_output = embedding(padding_inputs)\n",
        "\n",
        "print(masked_output._keras_mask)\n",
        "masking_layer = layers.Masking()\n",
        "\n",
        "unmasked_embedding = tf.cast(\n",
        "    tf.tile(tf.expand_dims(padding_inputs, axis= -1), [1,1,10]), tf.float32\n",
        ")\n",
        "\n",
        "masked_embedding = masking_layer(unmasked_embedding)\n",
        "print(masked_embedding._keras_mask)"
      ],
      "metadata": {
        "colab": {
          "base_uri": "https://localhost:8080/"
        },
        "id": "MvLwT__utAK-",
        "outputId": "3fa8cdc2-698b-4f4f-f57d-887ffee32425"
      },
      "execution_count": null,
      "outputs": [
        {
          "output_type": "stream",
          "name": "stdout",
          "text": [
            "tf.Tensor(\n",
            "[[ True  True  True False False False]\n",
            " [ True  True  True  True  True False]\n",
            " [ True  True  True  True  True  True]], shape=(3, 6), dtype=bool)\n",
            "tf.Tensor(\n",
            "[[ True  True  True False False False]\n",
            " [ True  True  True  True  True False]\n",
            " [ True  True  True  True  True  True]], shape=(3, 6), dtype=bool)\n"
          ]
        }
      ]
    },
    {
      "cell_type": "code",
      "source": [
        "model = keras.Sequential(\n",
        "    [layers.Embedding(input_dim=5000, output_dim = 16, mask_zero = True), layers.LSTM(32)]\n",
        ")"
      ],
      "metadata": {
        "id": "Pc1cCE_Eutii"
      },
      "execution_count": null,
      "outputs": []
    },
    {
      "cell_type": "code",
      "source": [
        "inputs = keras.Input(shape = (None,), dtype = 'int32')\n",
        "x = layers.Embedding(input_dim=5000, output_dim = 16, mask_zero = True)(inputs)\n",
        "outputs = layers.LSTM(32)(x)\n",
        "\n",
        "model = keras.Model(inputs, outputs)"
      ],
      "metadata": {
        "id": "RrcW6u_jvpfh"
      },
      "execution_count": null,
      "outputs": []
    },
    {
      "cell_type": "code",
      "source": [
        "class MyLayer(layers.Layer):\n",
        "  def __init__(self, **kwargs):\n",
        "    super(MyLayer, self).__init__(**kwargs)\n",
        "    self.embedding = layers.Embedding(input_dim= 5000, output_dim = 16 , mask_zero= True)\n",
        "    self.LSTM = layers.LSTM(32)\n",
        "\n",
        "  def call(self, inputs):\n",
        "    x = self.embedding(inputs)\n",
        "    mask = self.embedding.compute_mask(inputs)\n",
        "    output = self.LSTM(x, mask = mask)\n",
        "    return output\n",
        "\n",
        "layer = MyLayer()\n",
        "x = np.random.random((32,18)) * 100\n",
        "x = x.astype('int32')\n",
        "layer(x)"
      ],
      "metadata": {
        "colab": {
          "base_uri": "https://localhost:8080/"
        },
        "id": "jTOr40idy6sm",
        "outputId": "5957490f-1ce5-4fdb-b23b-02b16c2adb16"
      },
      "execution_count": null,
      "outputs": [
        {
          "output_type": "execute_result",
          "data": {
            "text/plain": [
              "<tf.Tensor: shape=(32, 32), dtype=float32, numpy=\n",
              "array([[-3.4250151e-03,  1.0624408e-02, -3.8551725e-03, ...,\n",
              "        -6.9048353e-03,  1.0449134e-03,  1.6931095e-03],\n",
              "       [ 9.2278398e-04, -4.6851030e-03,  2.8323641e-04, ...,\n",
              "         2.1643487e-03,  1.4104871e-03,  6.0918122e-03],\n",
              "       [-2.1287345e-03, -1.0787015e-03, -1.0347900e-02, ...,\n",
              "        -4.8352797e-03, -1.7620426e-03, -2.7737911e-03],\n",
              "       ...,\n",
              "       [ 2.7558473e-03,  1.8737143e-03,  3.8235360e-03, ...,\n",
              "         1.8294882e-03,  2.2192276e-03,  1.5437567e-03],\n",
              "       [ 1.1458315e-03, -8.9187436e-03,  7.4250605e-03, ...,\n",
              "        -4.5560873e-03, -5.7541928e-03,  3.1083077e-03],\n",
              "       [-2.5589557e-03, -6.9083169e-04, -7.2421753e-05, ...,\n",
              "         3.3397579e-03,  4.2279446e-03, -1.6200483e-03]], dtype=float32)>"
            ]
          },
          "metadata": {},
          "execution_count": 8
        }
      ]
    },
    {
      "cell_type": "code",
      "source": [
        "class TemporalSplit(keras.layers.Layer):\n",
        "    \"\"\"Split the input tensor into 2 tensors along the time dimension.\"\"\"\n",
        "\n",
        "    def call(self, inputs):\n",
        "        # Expect the input to be 3D and mask to be 2D, split the input tensor into 2\n",
        "        # subtensors along the time axis (axis 1).\n",
        "        return tf.split(inputs, 2, axis=1)\n",
        "\n",
        "    def compute_mask(self, inputs, mask=None):\n",
        "        # Also split the mask into 2 if it presents.\n",
        "        if mask is None:\n",
        "            return None\n",
        "        return tf.split(mask, 2, axis=1)\n",
        "\n",
        "\n",
        "first_half, second_half = TemporalSplit()(masked_embedding)\n",
        "print(first_half._keras_mask)\n",
        "print(second_half._keras_mask)"
      ],
      "metadata": {
        "colab": {
          "base_uri": "https://localhost:8080/"
        },
        "id": "QEo8XEIH65Lr",
        "outputId": "bd599e98-7236-43b8-fe9f-17e429b8cc0c"
      },
      "execution_count": null,
      "outputs": [
        {
          "output_type": "stream",
          "name": "stdout",
          "text": [
            "tf.Tensor(\n",
            "[[ True  True  True]\n",
            " [ True  True  True]\n",
            " [ True  True  True]], shape=(3, 3), dtype=bool)\n",
            "tf.Tensor(\n",
            "[[False False False]\n",
            " [ True  True False]\n",
            " [ True  True  True]], shape=(3, 3), dtype=bool)\n"
          ]
        }
      ]
    },
    {
      "cell_type": "code",
      "source": [
        "class CustomEmbedding(keras.layers.Layer):\n",
        "  def __init__(self, input_dim , output_dim , mask_zero = False, **kwargs):\n",
        "    super(CustomEmbedding, self).__init__(**kwargs)\n",
        "    self.input_dim = input_dim\n",
        "    self.output_dim = output_dim\n",
        "    self.mask_zero = mask_zero\n",
        "\n",
        "  def build(self, input_shape):\n",
        "    self.embeddings = self.add_weight(\n",
        "        shape = (self.input_dim , self.output_dim),\n",
        "        initializer = 'random_normal',\n",
        "        dtype = 'float32'\n",
        "    )\n",
        "  \n",
        "  def call(self, inputs):\n",
        "    return tf.nn.embedding_lookup(self.embeddings, inputs)\n",
        "  \n",
        "  def compute_mask(self, inputs, mask = None):\n",
        "    if not self.mask_zero:\n",
        "        return None\n",
        "    return tf.not_equal(inputs, 0)\n",
        "\n",
        "layer = CustomEmbedding(10,32, mask_zero = True)\n",
        "x = np.random.random((3,10)) * 9 \n",
        "x = x.astype('int32')\n",
        "\n",
        "y = layer(x)\n",
        "mask = layer.compute_mask(x)\n",
        "\n",
        "print(mask)"
      ],
      "metadata": {
        "colab": {
          "base_uri": "https://localhost:8080/"
        },
        "id": "YUwjxxK4ITYs",
        "outputId": "61a43c81-9d4d-4b64-905b-055b8cea9ae5"
      },
      "execution_count": null,
      "outputs": [
        {
          "output_type": "stream",
          "name": "stdout",
          "text": [
            "tf.Tensor(\n",
            "[[ True  True  True  True  True  True  True False  True  True]\n",
            " [False  True  True  True  True  True  True False  True  True]\n",
            " [ True  True  True  True  True  True  True  True False  True]], shape=(3, 10), dtype=bool)\n"
          ]
        }
      ]
    },
    {
      "cell_type": "code",
      "source": [
        "class MyActivation(keras.layers.Layer):\n",
        "  def __init__(self, **kwargs):\n",
        "    super(MyActivation, self).__init__(**kwargs)\n",
        "    self.supports_masking = True\n",
        "\n",
        "  def call(self, inputs):\n",
        "    return tf.nn.relu(inputs)"
      ],
      "metadata": {
        "id": "c_bgnBWSMuvy"
      },
      "execution_count": null,
      "outputs": []
    },
    {
      "cell_type": "code",
      "source": [
        "inputs = keras.Input(shape = (None,), dtype = 'int32')\n",
        "x = layers.Embedding(input_dim = 5000, output_dim = 16, mask_zero = True)(inputs)\n",
        "x = MyActivation()(x)\n",
        "print('input', inputs)\n",
        "print(\"Mask found:\", x._keras_mask)\n",
        "outputs = layers.LSTM(32)(x)\n",
        "\n",
        "model = keras.Model(inputs, outputs)"
      ],
      "metadata": {
        "colab": {
          "base_uri": "https://localhost:8080/"
        },
        "id": "jTO0yWbAOC5E",
        "outputId": "f5002019-d453-4287-89d1-f2d31b6cadfe"
      },
      "execution_count": null,
      "outputs": [
        {
          "output_type": "stream",
          "name": "stdout",
          "text": [
            "input KerasTensor(type_spec=TensorSpec(shape=(None, None), dtype=tf.int32, name='input_2'), name='input_2', description=\"created by layer 'input_2'\")\n",
            "Mask found: KerasTensor(type_spec=TensorSpec(shape=(None, None), dtype=tf.bool, name=None), name='Placeholder_1:0')\n"
          ]
        }
      ]
    },
    {
      "cell_type": "code",
      "source": [
        "class TemporalSoftmax(keras.layers.Layer):\n",
        "  def call(self, inputs , mask = None):\n",
        "    broadcast_float_mask = tf.expand_dims(tf.cast(mask, \"float32\"), -1)\n",
        "    input_exp = tf.exp(inputs) * broadcast_float_mask\n",
        "    inputs_sum = tf.reduce_sum(\n",
        "        input_exp * broadcast_float_mask , axis = -1 , keepdims = True\n",
        "    )\n",
        "    return input_exp / inputs_sum\n",
        "\n",
        "inputs = keras.Input(shape = (None,), dtype = 'int32')\n",
        "x = layers.Embedding(input_dim = 10 , output_dim = 32, mask_zero= True)(inputs)\n",
        "x = layers.Dense(1)(x)\n",
        "outputs = TemporalSoftmax()(x)\n",
        "\n",
        "model = keras.Model(inputs, outputs)\n",
        "y = model(np.random.randint(0 , 10 , size = (32, 100)), np.random.random((32,100,1)))"
      ],
      "metadata": {
        "id": "5nhmrC7RPMq6"
      },
      "execution_count": null,
      "outputs": []
    },
    {
      "cell_type": "code",
      "source": [],
      "metadata": {
        "id": "YyOspD9CQRzz"
      },
      "execution_count": null,
      "outputs": []
    }
  ]
}